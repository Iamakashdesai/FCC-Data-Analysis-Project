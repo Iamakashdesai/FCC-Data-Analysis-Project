{
 "cells": [
  {
   "cell_type": "markdown",
   "metadata": {},
   "source": [
    "# fcc-mean-variance-standard-deviation-calculator\n",
    "\n",
    "Assignment\n",
    "Create a function named calculate() in mean_var_std.py that uses Numpy to output the mean, variance, standard deviation, max, min, and sum of the rows, columns, and elements in a 3 x 3 matrix.\n",
    "\n",
    "The input of the function should be a list containing 9 digits. The function should convert the list into a 3 x 3 Numpy array, and then return a dictionary containing the mean, variance, standard deviation, max, min, and sum along both axes and for the flattened matrix.\n",
    "\n",
    "The returned dictionary should follow this format:\n",
    "\n",
    "{\n",
    "  'mean': [axis1, axis2, flattened],\n",
    "  'variance': [axis1, axis2, flattened],\n",
    "  'standard deviation': [axis1, axis2, flattened],\n",
    "  'max': [axis1, axis2, flattened],\n",
    "  'min': [axis1, axis2, flattened],\n",
    "  'sum': [axis1, axis2, flattened]\n",
    "}\n",
    "{\n",
    "  'mean': [axis1, axis2, flattened],\n",
    "  'variance': [axis1, axis2, flattened],\n",
    "  'standard deviation': [axis1, axis2, flattened],\n",
    "  'max': [axis1, axis2, flattened],\n",
    "  'min': [axis1, axis2, flattened],\n",
    "  'sum': [axis1, axis2, flattened]\n",
    "}\n",
    "If a list containing less than 9 elements is passed into the function, it should raise a ValueError exception with the message: \"List must contain nine numbers.\" The values in the returned dictionary should be lists and not Numpy arrays.\n",
    "\n",
    "For example, calculate([0,1,2,3,4,5,6,7,8]) should return:\n",
    "\n",
    "{\n",
    "  'mean': [[3.0, 4.0, 5.0], [1.0, 4.0, 7.0], 4.0], \n",
    "  'variance': [[6.0, 6.0, 6.0], [0.6666666666666666, 0.6666666666666666, 0.6666666666666666], 6.666666666666667], \n",
    "  'standard deviation': [[2.449489742783178, 2.449489742783178, 2.449489742783178], [0.816496580927726, 0.816496580927726, 0.816496580927726], 2.581988897471611],\n",
    "  'max': [[6, 7, 8], [2, 5, 8], 8],\n",
    "  'min': [[0, 1, 2], [0, 3, 6], 0],\n",
    "  'sum': [[9, 12, 15], [3, 12, 21], 36]\n",
    "}\n",
    "{\n",
    "  'mean': [[3.0, 4.0, 5.0], [1.0, 4.0, 7.0], 4.0], \n",
    "  'variance': [[6.0, 6.0, 6.0], [0.6666666666666666, 0.6666666666666666, 0.6666666666666666], 6.666666666666667], \n",
    "  'standard deviation': [[2.449489742783178, 2.449489742783178, 2.449489742783178], [0.816496580927726, 0.816496580927726, 0.816496580927726], 2.581988897471611],\n",
    "  'max': [[6, 7, 8], [2, 5, 8], 8],\n",
    "  'min': [[0, 1, 2], [0, 3, 6], 0],\n",
    "  'sum': [[9, 12, 15], [3, 12, 21], 36]\n",
    "}\n",
    "The unit tests for this project are in test_module.py.\n",
    "\n",
    "Development\n",
    "For development, you can use main.py to test your calculate() function. Click the \"run\" button and main.py will run."
   ]
  },
  {
   "cell_type": "code",
   "execution_count": 2,
   "metadata": {},
   "outputs": [
    {
     "name": "stdout",
     "output_type": "stream",
     "text": [
      "{'mean': (array([4., 5., 6.]), array([2., 5., 8.]), 5.0), 'standard deviation': (array([2.44948974, 2.44948974, 2.44948974]), array([0.81649658, 0.81649658, 0.81649658]), 2.581988897471611), 'Maximum': (array([7, 8, 9]), array([3, 6, 9]), 9), 'variance': (array([6., 6., 6.]), array([0.66666667, 0.66666667, 0.66666667]), 6.666666666666667), 'Minimum': (array([1, 2, 3]), array([1, 4, 7]), 1), 'Sum': (array([12, 15, 18]), array([ 6, 15, 24]), 45)}\n"
     ]
    }
   ],
   "source": [
    "import numpy as np\n",
    "nums=[1,2,3,4,5,6,7,8,9]\n",
    "if len(nums)>9:\n",
    "    print(\"Not more than 9 values\")\n",
    "else:\n",
    "    x=np.array(nums)\n",
    "    matrix=x.reshape(3,3)\n",
    "    calculations={}\n",
    "    M=np.mean(matrix)\n",
    "    M0=np.mean(matrix,axis=0)\n",
    "    M1=np.mean(matrix,axis=1)\n",
    "    V=np.var(matrix)\n",
    "    V0=np.var(matrix,axis=0)\n",
    "    V1=np.var(matrix,axis=1)\n",
    "    S=np.std(matrix)\n",
    "    S0=np.std(matrix,axis=0)\n",
    "    S1=np.std(matrix,axis=1)\n",
    "    Max=np.max(matrix)\n",
    "    Max0=np.max(matrix,axis=0)\n",
    "    Max1=np.max(matrix,axis=1)\n",
    "    Min=np.min(matrix)\n",
    "    Min0=np.min(matrix,axis=0)\n",
    "    Min1=np.min(matrix,axis=1)\n",
    "    Sum0=np.sum(matrix,axis=0)\n",
    "    Sum1=np.sum(matrix,axis=1)\n",
    "    Sum=np.sum(matrix)\n",
    "    calculations['mean']=M0,M1,M\n",
    "    calculations['standard deviation']=S0,S1,S\n",
    "    calculations['Maximum']=Max0,Max1,Max\n",
    "    calculations['variance']=V0,V1,V\n",
    "    calculations['Minimum']=Min0,Min1,Min\n",
    "    calculations['Sum']=Sum0,Sum1,Sum\n",
    "    print(calculations)\n"
   ]
  }
 ],
 "metadata": {
  "kernelspec": {
   "display_name": "Python 3",
   "language": "python",
   "name": "python3"
  },
  "language_info": {
   "codemirror_mode": {
    "name": "ipython",
    "version": 3
   },
   "file_extension": ".py",
   "mimetype": "text/x-python",
   "name": "python",
   "nbconvert_exporter": "python",
   "pygments_lexer": "ipython3",
   "version": "3.8.8"
  }
 },
 "nbformat": 4,
 "nbformat_minor": 4
}
